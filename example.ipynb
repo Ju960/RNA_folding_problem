{
 "cells": [
  {
   "cell_type": "markdown",
   "metadata": {},
   "source": [
    "IMPORT THE FUNCTIONS"
   ]
  },
  {
   "cell_type": "code",
   "execution_count": 1,
   "metadata": {},
   "outputs": [],
   "source": [
    "from energy_calculation import extract_c3_prime_distances_with_pairs\n",
    "from Training_script import process_pdb_files\n",
    "from Plot_interaction_score import plot_interaction_profiles\n"
   ]
  },
  {
   "cell_type": "markdown",
   "metadata": {},
   "source": [
    "TRAINING "
   ]
  },
  {
   "cell_type": "code",
   "execution_count": 2,
   "metadata": {},
   "outputs": [
    {
     "name": "stdout",
     "output_type": "stream",
     "text": [
      "Processing file rna_pdb_files/6s0m.pdb...\n",
      "Processing file rna_pdb_files/4ox9.pdb...\n",
      "Processing file rna_pdb_files/8rza.pdb...\n",
      "Processing file rna_pdb_files/6ugi.pdb...\n",
      "Processing file rna_pdb_files/5l4o.pdb...\n",
      "Processing file rna_pdb_files/6ugj.pdb...\n",
      "Processing file rna_pdb_files/4wkj.pdb...\n",
      "Processing file rna_pdb_files/7og0.pdb...\n",
      "Processing file rna_pdb_files/4s20.pdb...\n",
      "Processing file rna_pdb_files/7chd.pdb...\n",
      "Processing file rna_pdb_files/5ipl.pdb...\n",
      "Processing file rna_pdb_files/6g63.pdb...\n",
      "Processing file rna_pdb_files/5ipm.pdb...\n",
      "Processing file rna_pdb_files/3moj.pdb...\n",
      "Processing file rna_pdb_files/6d1v.pdb...\n",
      "Processing file rna_pdb_files/3t5n.pdb...\n",
      "Processing file rna_pdb_files/5ipn.pdb...\n",
      "Processing file rna_pdb_files/6b0b.pdb...\n",
      "Processing file rna_pdb_files/7ofw.pdb...\n",
      "Processing file rna_pdb_files/3lqx.pdb...\n",
      "Processing file rna_pdb_files/5t8y.pdb...\n",
      "Processing file rna_pdb_files/5hr7.pdb...\n",
      "Processing file rna_pdb_files/4qvc.pdb...\n",
      "Processing file rna_pdb_files/2yhm.pdb...\n",
      "Processing file rna_pdb_files/4cqn.pdb...\n",
      "Processing file rna_pdb_files/4jyz.pdb...\n",
      "Processing file rna_pdb_files/4qyz.pdb...\n",
      "Processing file rna_pdb_files/5onh.pdb...\n",
      "Processing file rna_pdb_files/5hr6.pdb...\n",
      "Processing file rna_pdb_files/4ylp.pdb...\n",
      "Processing file rna_pdb_files/8f4o.pdb...\n",
      "Processing file rna_pdb_files/5ndi.pdb...\n",
      "Processing file rna_pdb_files/5nqi.pdb...\n",
      "Processing file rna_pdb_files/7pmq.pdb...\n",
      "Processing file rna_pdb_files/6mpf.pdb...\n",
      "Processing file rna_pdb_files/7jjf.pdb...\n",
      "Processing file rna_pdb_files/5ukb.pdb...\n",
      "Processing file rna_pdb_files/8wnd.pdb...\n",
      "Processing file rna_pdb_files/4qvd.pdb...\n",
      "Processing file rna_pdb_files/5omw.pdb...\n",
      "Processing file rna_pdb_files/3zgz.pdb...\n",
      "Processing file rna_pdb_files/6bbo.pdb...\n",
      "Processing file rna_pdb_files/7f36.pdb...\n",
      "Processing file rna_pdb_files/5uj2.pdb...\n",
      "Processing file rna_pdb_files/3v11.pdb...\n",
      "Processing file rna_pdb_files/6mkn.pdb...\n",
      "Processing file rna_pdb_files/4nxh.pdb...\n",
      "Processing file rna_pdb_files/6mpi.pdb...\n",
      "Processing file rna_pdb_files/6sy4.pdb...\n",
      "Processing file rna_pdb_files/4nya.pdb...\n",
      "Processing file rna_pdb_files/8wo8.pdb...\n",
      "Processing file rna_pdb_files/7vyx.pdb...\n",
      "Processing file rna_pdb_files/6f4a.pdb...\n",
      "Processing file rna_pdb_files/6dti.pdb...\n",
      "Processing file rna_pdb_files/7r97.pdb...\n",
      "Processing file rna_pdb_files/4yln.pdb...\n",
      "Processing file rna_pdb_files/4nyb.pdb...\n",
      "Processing file rna_pdb_files/7tzt.pdb...\n",
      "Processing file rna_pdb_files/4xjn.pdb...\n",
      "Processing file rna_pdb_files/7tzu.pdb...\n",
      "Processing file rna_pdb_files/3s8u.pdb...\n",
      "Processing file rna_pdb_files/4nyc.pdb...\n",
      "Processing file rna_pdb_files/8ftm.pdb...\n",
      "Processing file rna_pdb_files/6sy6.pdb...\n",
      "Processing file rna_pdb_files/4ylo.pdb...\n",
      "Processing file rna_pdb_files/7e8o.pdb...\n",
      "Processing file rna_pdb_files/5d0a.pdb...\n",
      "Processing file rna_pdb_files/4nyg.pdb...\n",
      "Processing file rna_pdb_files/6prv.pdb...\n",
      "Processing file rna_pdb_files/6y4b.pdb...\n",
      "Processing file rna_pdb_files/3zjv.pdb...\n",
      "Processing file rna_pdb_files/5new.pdb...\n",
      "Processing file rna_pdb_files/7yse.pdb...\n",
      "Processing file rna_pdb_files/5d0b.pdb...\n",
      "Processing file rna_pdb_files/4nyd.pdb...\n",
      "Processing file rna_pdb_files/5on3.pdb...\n",
      "Processing file rna_pdb_files/8fza.pdb...\n",
      "Processing file rna_pdb_files/3zjt.pdb...\n",
      "Processing file rna_pdb_files/7tzr.pdb...\n",
      "Processing file rna_pdb_files/7tzs.pdb...\n",
      "Processing file rna_pdb_files/3zju.pdb...\n",
      "Processing file rna_pdb_files/6ny6.pdb...\n",
      "Processing file rna_pdb_files/4aq7.pdb...\n",
      "Processing file rna_pdb_files/5on2.pdb...\n",
      "Processing file rna_pdb_files/5mrx.pdb...\n",
      "Processing file rna_pdb_files/5h9f.pdb...\n",
      "Processing file rna_pdb_files/7ofz.pdb...\n",
      "Processing file rna_pdb_files/4x9e.pdb...\n",
      "Processing file rna_pdb_files/6m6v.pdb...\n",
      "Processing file rna_pdb_files/4y27.pdb...\n",
      "Processing file rna_pdb_files/4y1m.pdb...\n",
      "Processing file rna_pdb_files/6zww.pdb...\n",
      "Processing file rna_pdb_files/5h9e.pdb...\n",
      "Processing file rna_pdb_files/6uf1.pdb...\n",
      "Processing file rna_pdb_files/3qsy.pdb...\n",
      "Processing file rna_pdb_files/6ugg.pdb...\n",
      "Processing file rna_pdb_files/7tdc.pdb...\n",
      "Processing file rna_pdb_files/7tdb.pdb...\n",
      "Processing file rna_pdb_files/6uey.pdb...\n",
      "Processing file rna_pdb_files/7eqj.pdb...\n",
      "Processing file rna_pdb_files/8vu0.pdb...\n",
      "Processing file rna_pdb_files/5f6c.pdb...\n",
      "Processing file rna_pdb_files/7d8o.pdb...\n",
      "Processing file rna_pdb_files/6p71.pdb...\n",
      "Processing file rna_pdb_files/7td7.pdb...\n",
      "Processing file rna_pdb_files/7tda.pdb...\n",
      "Processing file rna_pdb_files/6y3g.pdb...\n",
      "Processing file rna_pdb_files/3t5q.pdb...\n",
      "File generated: /Users/julia/Downloads/RNA_folding_problem/rna_pdb_files/output_results/AA_log_ratio.txt\n",
      "File generated: /Users/julia/Downloads/RNA_folding_problem/rna_pdb_files/output_results/AU_log_ratio.txt\n",
      "File generated: /Users/julia/Downloads/RNA_folding_problem/rna_pdb_files/output_results/AC_log_ratio.txt\n",
      "File generated: /Users/julia/Downloads/RNA_folding_problem/rna_pdb_files/output_results/AG_log_ratio.txt\n",
      "File generated: /Users/julia/Downloads/RNA_folding_problem/rna_pdb_files/output_results/UU_log_ratio.txt\n",
      "File generated: /Users/julia/Downloads/RNA_folding_problem/rna_pdb_files/output_results/CU_log_ratio.txt\n",
      "File generated: /Users/julia/Downloads/RNA_folding_problem/rna_pdb_files/output_results/GU_log_ratio.txt\n",
      "File generated: /Users/julia/Downloads/RNA_folding_problem/rna_pdb_files/output_results/CC_log_ratio.txt\n",
      "File generated: /Users/julia/Downloads/RNA_folding_problem/rna_pdb_files/output_results/CG_log_ratio.txt\n",
      "File generated: /Users/julia/Downloads/RNA_folding_problem/rna_pdb_files/output_results/GG_log_ratio.txt\n"
     ]
    }
   ],
   "source": [
    "# Folder contening the PDB files\n",
    "input_dir = \"rna_pdb_files\" \n",
    "\n",
    "# Process pdb files to obtain the scores\n",
    "scores_dict, bins = process_pdb_files(input_dir)"
   ]
  },
  {
   "cell_type": "code",
   "execution_count": 3,
   "metadata": {},
   "outputs": [],
   "source": [
    "# Plot the Interaction score profiles for each base pair\n",
    "plot_interaction_profiles(scores_dict, bins)"
   ]
  },
  {
   "cell_type": "markdown",
   "metadata": {},
   "source": [
    "GIBBS ENERGY CALCULATION FOR 1 NATIVE STRUCTURE"
   ]
  },
  {
   "cell_type": "code",
   "execution_count": 4,
   "metadata": {},
   "outputs": [
    {
     "name": "stdout",
     "output_type": "stream",
     "text": [
      "Total Gibbs Energy of native structure: -0.521 kcal/mol\n"
     ]
    }
   ],
   "source": [
    "pdb_file = \"/Users/julia/Downloads/RNA_folding_problem/Native_Pred_structure/rp03.pdb\"\n",
    "output_file = \"/Users/julia/Downloads/RNA_folding_problem/Native_Pred_structure/native_score.txt\"\n",
    "\n",
    "# Energy calculation \n",
    "total_gibbs_energy = extract_c3_prime_distances_with_pairs(pdb_file, output_file)\n",
    "print(f\"Total Gibbs Energy of native structure: {total_gibbs_energy:.3f} kcal/mol\")"
   ]
  },
  {
   "cell_type": "markdown",
   "metadata": {},
   "source": [
    "GIBBS ENERGY CALCULATION FOR 1 PREDICTIVE STRUCTURE"
   ]
  },
  {
   "cell_type": "code",
   "execution_count": 5,
   "metadata": {},
   "outputs": [
    {
     "name": "stdout",
     "output_type": "stream",
     "text": [
      "Total Gibbs Energy of predictive structure: 1.508 kcal/mol\n"
     ]
    }
   ],
   "source": [
    "pdb_file = \"/Users/julia/Downloads/RNA_folding_problem/Native_Pred_structure/3drna_rp03_2.pdb\"\n",
    "output_file = \"/Users/julia/Downloads/RNA_folding_problem/Native_Pred_structure/predictive_score.txt\"\n",
    "\n",
    "# Energy calculation \n",
    "total_gibbs_energy = extract_c3_prime_distances_with_pairs(pdb_file, output_file)\n",
    "print(f\"Total Gibbs Energy of predictive structure: {total_gibbs_energy:.3f} kcal/mol\")"
   ]
  }
 ],
 "metadata": {
  "kernelspec": {
   "display_name": "Python 3",
   "language": "python",
   "name": "python3"
  },
  "language_info": {
   "codemirror_mode": {
    "name": "ipython",
    "version": 3
   },
   "file_extension": ".py",
   "mimetype": "text/x-python",
   "name": "python",
   "nbconvert_exporter": "python",
   "pygments_lexer": "ipython3",
   "version": "3.12.3"
  }
 },
 "nbformat": 4,
 "nbformat_minor": 2
}
